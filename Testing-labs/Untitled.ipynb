{
 "cells": [
  {
   "cell_type": "code",
   "execution_count": 84,
   "id": "47ffa9fa-d59d-484f-8e75-e583e3b6afa8",
   "metadata": {},
   "outputs": [],
   "source": [
    "#Iván andrés Trujillo Abella \n",
    "#ivantrujillo1229@gmail.com\n",
    "#Consolidate Thesis"
   ]
  },
  {
   "cell_type": "code",
   "execution_count": 85,
   "id": "1f59c2a1-b29f-4f84-9fae-18d6a5ac917b",
   "metadata": {},
   "outputs": [],
   "source": [
    "## Own functions\n",
    "def error_in_date(x):\n",
    "    try:\n",
    "        datetime.strptime(x, \"%Y-%m-%d\")\n",
    "        return False\n",
    "    except:\n",
    "        return True\n",
    "\n",
    "def cleantime(x):\n",
    "    if type(x)==str:\n",
    "        return x.replace(\"00:00:00\", \"\").replace(\" \", \"\")\n",
    "    else:\n",
    "        return x\n",
    "\n",
    "def top_cat(k, cat, df):\n",
    "    otro = []\n",
    "    cat_relative_dict =  df[cat].value_counts(normalize=True).to_dict()\n",
    "    for cat in cat_relative_dict:\n",
    "        if cat_relative_dict[cat]<=k:\n",
    "            otro.append(cat)\n",
    "    return otro\n",
    "\n",
    "\n",
    "def bankyear(df_):\n",
    "  df = df_.copy()\n",
    "  years = [2016, 2017, 2018, 2019]\n",
    "  df['bankrupt-year'] = 0\n",
    "  for firm in df.index:\n",
    "    unchanged = True\n",
    "    for year in years:\n",
    "      if df.loc[firm, 'evento'+str(year)]==1 and unchanged==True:\n",
    "        df.loc[firm,'bankrupt-year']= year\n",
    "        unchanged = False\n",
    "  return df['bankrupt-year']\n",
    "\n",
    "\n",
    "\n",
    "def new_firms(current_df, next_df, key):\n",
    "  firm_first =  set(current_df[key].unique()) -  set(next_df[key].unique())\n",
    "  firm_second =  set(next_df[key].unique()) -  set(current_df[key].unique())\n",
    "  return pd.concat([current_df[current_df[key].isin(firm_first)] , next_df[next_df[key].isin(firm_second)]])\n",
    "\n",
    "\n",
    "# A function\n",
    "def varInEvent(time_base, prefix, var_time_event, df_, lag=1):\n",
    "  df = df_.copy()\n",
    "  df['var*'] = np.nan\n",
    "  for firm in df.index:\n",
    "    time_ocurrence = df.loc[firm, var_time_event]\n",
    "    if time_ocurrence - lag >= time_base:\n",
    "      df.loc[firm, 'var*'] = df.loc[firm, prefix + str(time_ocurrence-lag)]\n",
    "  return df['var*']\n"
   ]
  },
  {
   "cell_type": "code",
   "execution_count": 86,
   "id": "fc18f333-ec37-4368-baad-20688e9712c1",
   "metadata": {},
   "outputs": [
    {
     "name": "stdout",
     "output_type": "stream",
     "text": [
      "C:\\Users\\iván\\Desktop\\Thesis\\Thesis-bankrupt\\Datasets\n"
     ]
    }
   ],
   "source": [
    "cd C:\\Users\\iván\\Desktop\\Thesis\\Thesis-bankrupt\\Datasets"
   ]
  },
  {
   "cell_type": "code",
   "execution_count": 87,
   "id": "9419b37d-aba0-4e38-a4dc-7eb9dfce731d",
   "metadata": {},
   "outputs": [],
   "source": [
    "import pandas as pd\n",
    "import numpy as np"
   ]
  },
  {
   "cell_type": "code",
   "execution_count": 88,
   "id": "910ee87c-73dc-41c0-bb8e-4ecb85b218d1",
   "metadata": {},
   "outputs": [],
   "source": [
    "# Loading datasets\n",
    "dfs = {}\n",
    "years = [2016,2017,2018,2019]\n",
    "for year in years:\n",
    "  dfs['df'+str(year)]  = pd.read_excel('Cáratula-Pymes-'+str(year)+'.xlsx')"
   ]
  },
  {
   "cell_type": "code",
   "execution_count": 89,
   "id": "9a0477c8-134f-48f9-9d5e-f49412c04481",
   "metadata": {},
   "outputs": [
    {
     "name": "stdout",
     "output_type": "stream",
     "text": [
      "##########\n",
      "(17799, 31) 2016\n",
      "(17723, 31) 2016\n",
      "(17701, 32) 2016\n",
      "(17701, 32) 2016\n",
      "0\n",
      "(17701, 2) 2016\n",
      "##########\n",
      "(14696, 32) 2017\n",
      "(14656, 32) 2017\n",
      "(14639, 33) 2017\n",
      "(14638, 33) 2017\n",
      "0\n",
      "(14638, 2) 2017\n",
      "##########\n",
      "(14275, 34) 2018\n",
      "(14229, 34) 2018\n",
      "(14212, 35) 2018\n",
      "(14210, 35) 2018\n",
      "1\n",
      "(14210, 2) 2018\n",
      "##########\n",
      "(19185, 36) 2019\n",
      "(19140, 36) 2019\n",
      "(19128, 37) 2019\n",
      "(19125, 37) 2019\n",
      "0\n",
      "(19125, 2) 2019\n"
     ]
    }
   ],
   "source": [
    "for year in years:\n",
    "  print('#'*10)\n",
    "  print(dfs['df'+str(year)].shape , year)\n",
    "  dfs['df'+str(year)]  = dfs['df'+str(year)][dfs['df'+str(year)]['Estado actual']!='EN ETAPA PREOPERATIVA']\n",
    "  print(dfs['df'+str(year)].shape , year)\n",
    "  dfs['df'+str(year)]['Fecha'] = pd.to_datetime( dfs['df'+str(year)][ 'Fecha de Corte'], format= \"%Y-%m-%d\")\n",
    "  dfs['df'+str(year)]  = dfs['df'+str(year)][dfs['df'+str(year)]['Fecha'].dt.month==12] # there is duplicates given present the information two or more times..\n",
    "  print(dfs['df'+str(year)].shape , year)\n",
    "  dfs['df'+str(year)] =  dfs['df'+str(year)][-pd.isnull(dfs['df'+str(year)]['NIT'])]\n",
    "  print(dfs['df'+str(year)].shape , year)\n",
    "  dfs['df'+str(year)]['evento'+str(year)]  = np.where(dfs['df'+str(year)]['Estado actual']!='ACTIVA',1 ,0)\n",
    "  dfs['df'+str(year)] = dfs['df'+str(year)][['evento'+str(year), 'NIT']]\n",
    "  print(dfs['df'+str(year)]['NIT'].duplicated().sum())\n",
    "  print(dfs['df'+str(year)].shape , year)"
   ]
  },
  {
   "cell_type": "code",
   "execution_count": 90,
   "id": "f22fc100-4c85-4b66-8f05-e58fed022d09",
   "metadata": {},
   "outputs": [
    {
     "data": {
      "text/plain": [
       "evento2019\n",
       "0    18249\n",
       "1      876\n",
       "Name: count, dtype: int64"
      ]
     },
     "execution_count": 90,
     "metadata": {},
     "output_type": "execute_result"
    }
   ],
   "source": [
    "dfs['df2019']['evento2019'].value_counts() # Here there are 876 firms,  but since declarate the process."
   ]
  },
  {
   "cell_type": "code",
   "execution_count": 91,
   "id": "6f3307aa-f6ed-4b4e-a1e9-f18faad85d56",
   "metadata": {},
   "outputs": [
    {
     "name": "stdout",
     "output_type": "stream",
     "text": [
      "evento2016\n",
      "0    17193\n",
      "1      508\n",
      "Name: count, dtype: int64\n",
      "evento2017\n",
      "0    14019\n",
      "1      619\n",
      "Name: count, dtype: int64\n",
      "evento2018\n",
      "0    13445\n",
      "1      765\n",
      "Name: count, dtype: int64\n",
      "evento2019\n",
      "0    18249\n",
      "1      876\n",
      "Name: count, dtype: int64\n"
     ]
    }
   ],
   "source": [
    "for year in range(2016,2020):\n",
    "    print(dfs['df'+str(year)]['evento'+str(year)].value_counts())"
   ]
  },
  {
   "cell_type": "code",
   "execution_count": 92,
   "id": "6247348b-3b0c-4c6c-960a-a24a3455c36f",
   "metadata": {},
   "outputs": [],
   "source": [
    "full = dfs['df2016'].copy()\n",
    "for year in range(2017,2020):\n",
    "    clients= new_firms(full,dfs['df'+str(year)], 'NIT')\n",
    "    full = full.merge(dfs['df'+str(year)], on='NIT', how='inner', suffixes=(None, 'to_remove'))\n",
    "    duplicated = [x for x in full.columns if 'to_remove' in x]\n",
    "    full.drop(columns=duplicated, inplace=True)\n",
    "    full = pd.concat([full, clients])"
   ]
  },
  {
   "cell_type": "code",
   "execution_count": 93,
   "id": "06a8edf1-ccc5-4b7b-9d6f-c23aa1992797",
   "metadata": {},
   "outputs": [
    {
     "data": {
      "text/plain": [
       "1"
      ]
     },
     "execution_count": 93,
     "metadata": {},
     "output_type": "execute_result"
    }
   ],
   "source": [
    "full['NIT'].duplicated().sum()"
   ]
  },
  {
   "cell_type": "code",
   "execution_count": 94,
   "id": "2fb3b620-8288-4daa-9972-22ca625db9f3",
   "metadata": {},
   "outputs": [
    {
     "data": {
      "text/plain": [
       "evento2019\n",
       "0.0    18250\n",
       "1.0      876\n",
       "Name: count, dtype: int64"
      ]
     },
     "execution_count": 94,
     "metadata": {},
     "output_type": "execute_result"
    }
   ],
   "source": [
    "full['evento2019'].value_counts()"
   ]
  },
  {
   "cell_type": "code",
   "execution_count": 97,
   "id": "5f338521-b526-433f-8c92-bc695f7c5e3e",
   "metadata": {},
   "outputs": [
    {
     "data": {
      "text/html": [
       "<div>\n",
       "<style scoped>\n",
       "    .dataframe tbody tr th:only-of-type {\n",
       "        vertical-align: middle;\n",
       "    }\n",
       "\n",
       "    .dataframe tbody tr th {\n",
       "        vertical-align: top;\n",
       "    }\n",
       "\n",
       "    .dataframe thead th {\n",
       "        text-align: right;\n",
       "    }\n",
       "</style>\n",
       "<table border=\"1\" class=\"dataframe\">\n",
       "  <thead>\n",
       "    <tr style=\"text-align: right;\">\n",
       "      <th></th>\n",
       "      <th>evento2016</th>\n",
       "      <th>NIT</th>\n",
       "      <th>evento2017</th>\n",
       "      <th>evento2018</th>\n",
       "      <th>evento2019</th>\n",
       "    </tr>\n",
       "  </thead>\n",
       "  <tbody>\n",
       "    <tr>\n",
       "      <th>0</th>\n",
       "      <td>0.0</td>\n",
       "      <td>800000313.0</td>\n",
       "      <td>0.0</td>\n",
       "      <td>0.0</td>\n",
       "      <td>0.0</td>\n",
       "    </tr>\n",
       "    <tr>\n",
       "      <th>1</th>\n",
       "      <td>0.0</td>\n",
       "      <td>800000457.0</td>\n",
       "      <td>0.0</td>\n",
       "      <td>0.0</td>\n",
       "      <td>0.0</td>\n",
       "    </tr>\n",
       "    <tr>\n",
       "      <th>2</th>\n",
       "      <td>0.0</td>\n",
       "      <td>800001020.0</td>\n",
       "      <td>0.0</td>\n",
       "      <td>0.0</td>\n",
       "      <td>0.0</td>\n",
       "    </tr>\n",
       "    <tr>\n",
       "      <th>3</th>\n",
       "      <td>0.0</td>\n",
       "      <td>800001047.0</td>\n",
       "      <td>0.0</td>\n",
       "      <td>0.0</td>\n",
       "      <td>0.0</td>\n",
       "    </tr>\n",
       "    <tr>\n",
       "      <th>4</th>\n",
       "      <td>0.0</td>\n",
       "      <td>800001075.0</td>\n",
       "      <td>0.0</td>\n",
       "      <td>1.0</td>\n",
       "      <td>1.0</td>\n",
       "    </tr>\n",
       "    <tr>\n",
       "      <th>...</th>\n",
       "      <td>...</td>\n",
       "      <td>...</td>\n",
       "      <td>...</td>\n",
       "      <td>...</td>\n",
       "      <td>...</td>\n",
       "    </tr>\n",
       "    <tr>\n",
       "      <th>19180</th>\n",
       "      <td>NaN</td>\n",
       "      <td>901330952.0</td>\n",
       "      <td>NaN</td>\n",
       "      <td>NaN</td>\n",
       "      <td>0.0</td>\n",
       "    </tr>\n",
       "    <tr>\n",
       "      <th>19181</th>\n",
       "      <td>NaN</td>\n",
       "      <td>901333114.0</td>\n",
       "      <td>NaN</td>\n",
       "      <td>NaN</td>\n",
       "      <td>0.0</td>\n",
       "    </tr>\n",
       "    <tr>\n",
       "      <th>19182</th>\n",
       "      <td>NaN</td>\n",
       "      <td>901341119.0</td>\n",
       "      <td>NaN</td>\n",
       "      <td>NaN</td>\n",
       "      <td>0.0</td>\n",
       "    </tr>\n",
       "    <tr>\n",
       "      <th>19183</th>\n",
       "      <td>NaN</td>\n",
       "      <td>901341297.0</td>\n",
       "      <td>NaN</td>\n",
       "      <td>NaN</td>\n",
       "      <td>0.0</td>\n",
       "    </tr>\n",
       "    <tr>\n",
       "      <th>19184</th>\n",
       "      <td>NaN</td>\n",
       "      <td>901351901.0</td>\n",
       "      <td>NaN</td>\n",
       "      <td>NaN</td>\n",
       "      <td>0.0</td>\n",
       "    </tr>\n",
       "  </tbody>\n",
       "</table>\n",
       "<p>27211 rows × 5 columns</p>\n",
       "</div>"
      ],
      "text/plain": [
       "       evento2016          NIT  evento2017  evento2018  evento2019\n",
       "0             0.0  800000313.0         0.0         0.0         0.0\n",
       "1             0.0  800000457.0         0.0         0.0         0.0\n",
       "2             0.0  800001020.0         0.0         0.0         0.0\n",
       "3             0.0  800001047.0         0.0         0.0         0.0\n",
       "4             0.0  800001075.0         0.0         1.0         1.0\n",
       "...           ...          ...         ...         ...         ...\n",
       "19180         NaN  901330952.0         NaN         NaN         0.0\n",
       "19181         NaN  901333114.0         NaN         NaN         0.0\n",
       "19182         NaN  901341119.0         NaN         NaN         0.0\n",
       "19183         NaN  901341297.0         NaN         NaN         0.0\n",
       "19184         NaN  901351901.0         NaN         NaN         0.0\n",
       "\n",
       "[27211 rows x 5 columns]"
      ]
     },
     "execution_count": 97,
     "metadata": {},
     "output_type": "execute_result"
    }
   ],
   "source": [
    "full"
   ]
  },
  {
   "cell_type": "code",
   "execution_count": 95,
   "id": "d1c7b48a-fa4d-4051-a5dd-142e5467f24f",
   "metadata": {},
   "outputs": [
    {
     "data": {
      "text/plain": [
       "\"\\nfor i in range(2,4):\\n  clients= new_firms(full,dfs['df'+str(i)], 'NIT')\\n  full = full.merge(dfs['month'+str(i)], on='cedula', how='inner', suffixes=(None, 'to_remove'))\\n  duplicated = [x for x in full.columns if 'to_remove' in x]\\n  full.drop(columns=duplicated, inplace=True)\\n  full = pd.concat([full, clients])\\n\""
      ]
     },
     "execution_count": 95,
     "metadata": {},
     "output_type": "execute_result"
    }
   ],
   "source": [
    "\n",
    "\n",
    "\n",
    "\n",
    "\n",
    "\n",
    "\"\"\"\n",
    "for i in range(2,4):\n",
    "  clients= new_firms(full,dfs['df'+str(i)], 'NIT')\n",
    "  full = full.merge(dfs['month'+str(i)], on='cedula', how='inner', suffixes=(None, 'to_remove'))\n",
    "  duplicated = [x for x in full.columns if 'to_remove' in x]\n",
    "  full.drop(columns=duplicated, inplace=True)\n",
    "  full = pd.concat([full, clients])\n",
    "\"\"\""
   ]
  },
  {
   "cell_type": "code",
   "execution_count": null,
   "id": "239b1aae-b2e6-4e62-b408-820e98d75341",
   "metadata": {},
   "outputs": [],
   "source": []
  }
 ],
 "metadata": {
  "kernelspec": {
   "display_name": "Python 3 (ipykernel)",
   "language": "python",
   "name": "python3"
  },
  "language_info": {
   "codemirror_mode": {
    "name": "ipython",
    "version": 3
   },
   "file_extension": ".py",
   "mimetype": "text/x-python",
   "name": "python",
   "nbconvert_exporter": "python",
   "pygments_lexer": "ipython3",
   "version": "3.11.4"
  }
 },
 "nbformat": 4,
 "nbformat_minor": 5
}
