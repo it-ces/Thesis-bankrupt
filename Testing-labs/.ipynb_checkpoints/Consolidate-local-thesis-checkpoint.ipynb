{
 "cells": [
  {
   "cell_type": "code",
   "execution_count": 1,
   "id": "47ffa9fa-d59d-484f-8e75-e583e3b6afa8",
   "metadata": {},
   "outputs": [],
   "source": [
    "#Iván Andrés Trujillo Abella \n",
    "#ivantrujillo1229@gmail.com\n",
    "#Consolidate Thesis"
   ]
  },
  {
   "cell_type": "code",
   "execution_count": 2,
   "id": "1f59c2a1-b29f-4f84-9fae-18d6a5ac917b",
   "metadata": {},
   "outputs": [],
   "source": [
    "## Own functions\n",
    "def error_in_date(x, format_date= \"%Y-%m-%d\"):\n",
    "    try:\n",
    "        datetime.strptime(x,format_date)\n",
    "        return False\n",
    "    except:\n",
    "        return True\n",
    "\n",
    "def clean_date(x):\n",
    "    return pd.to_datetime(x[0:10], format= \"%Y-%m-%d\")    \n",
    "    \n",
    "def cleantime(x):\n",
    "    if type(x)==str:\n",
    "        return x.replace(\"00:00:00\", \"\").replace(\" \", \"\")\n",
    "    else:\n",
    "        return x\n",
    "\n",
    "def top_cat(k, cat, df):\n",
    "    otro = []\n",
    "    cat_relative_dict =  df[cat].value_counts(normalize=True).to_dict()\n",
    "    for cat in cat_relative_dict:\n",
    "        if cat_relative_dict[cat]<=k:\n",
    "            otro.append(cat)\n",
    "    return otro\n",
    "\n",
    "\n",
    "def bankyear(df_):\n",
    "    df = df_.copy()\n",
    "    years = [2016, 2017, 2018, 2019]\n",
    "    df['bankrupt-year'] = 0\n",
    "    for firm in df.index:\n",
    "        unchanged = True\n",
    "        for year in years:\n",
    "            if df.loc[firm, 'evento'+str(year)]==1 and unchanged==True:\n",
    "                df.loc[firm,'bankrupt-year']= year\n",
    "                unchanged = False\n",
    "    return df['bankrupt-year']\n",
    "\n",
    "\n",
    "\n",
    "def new_firms(current_df, next_df, key):\n",
    "    firm_first =  set(current_df[key].unique()) -  set(next_df[key].unique())\n",
    "    firm_second =  set(next_df[key].unique()) -  set(current_df[key].unique())\n",
    "    return pd.concat([current_df[current_df[key].isin(firm_first)] , next_df[next_df[key].isin(firm_second)]])\n",
    "\n",
    "\n",
    "# A function\n",
    "def varInEvent(time_base, prefix, var_time_event, df_, lag=1):\n",
    "    df = df_.copy()\n",
    "    df['var*'] = np.nan\n",
    "    for firm in df.index:\n",
    "        time_ocurrence = df.loc[firm, var_time_event]\n",
    "        if time_ocurrence - lag >= time_base:\n",
    "            df.loc[firm, 'var*'] = df.loc[firm, prefix + str(time_ocurrence-lag)]\n",
    "    return df['var*']\n"
   ]
  },
  {
   "cell_type": "code",
   "execution_count": 3,
   "id": "fc18f333-ec37-4368-baad-20688e9712c1",
   "metadata": {},
   "outputs": [
    {
     "name": "stdout",
     "output_type": "stream",
     "text": [
      "C:\\Users\\iván\\Desktop\\Thesis\\Thesis-bankrupt\\Datasets\n"
     ]
    }
   ],
   "source": [
    "cd C:\\Users\\iván\\Desktop\\Thesis\\Thesis-bankrupt\\Datasets"
   ]
  },
  {
   "cell_type": "code",
   "execution_count": 4,
   "id": "9419b37d-aba0-4e38-a4dc-7eb9dfce731d",
   "metadata": {},
   "outputs": [],
   "source": [
    "import pandas as pd\n",
    "import numpy as np"
   ]
  },
  {
   "cell_type": "code",
   "execution_count": 5,
   "id": "910ee87c-73dc-41c0-bb8e-4ecb85b218d1",
   "metadata": {},
   "outputs": [],
   "source": [
    "# Loading datasets\n",
    "dfs = {}\n",
    "years = [2016,2017,2018,2019]\n",
    "for year in years:\n",
    "  dfs['df'+str(year)]  = pd.read_excel('Cáratula-Pymes-'+str(year)+'.xlsx')"
   ]
  },
  {
   "cell_type": "code",
   "execution_count": 6,
   "id": "9a0477c8-134f-48f9-9d5e-f49412c04481",
   "metadata": {},
   "outputs": [
    {
     "name": "stdout",
     "output_type": "stream",
     "text": [
      "##########\n",
      "(17799, 31) 2016\n",
      "(17723, 31) 2016\n",
      "(17701, 32) 2016\n",
      "(17701, 32) 2016\n",
      "0\n",
      "(17701, 2) 2016\n",
      "##########\n",
      "(14696, 32) 2017\n",
      "(14656, 32) 2017\n",
      "(14639, 33) 2017\n",
      "(14638, 33) 2017\n",
      "0\n",
      "(14638, 2) 2017\n",
      "##########\n",
      "(14275, 34) 2018\n",
      "(14229, 34) 2018\n",
      "(14212, 35) 2018\n",
      "(14210, 35) 2018\n",
      "1\n",
      "(14210, 2) 2018\n",
      "##########\n",
      "(19185, 36) 2019\n",
      "(19140, 36) 2019\n",
      "(19128, 37) 2019\n",
      "(19125, 37) 2019\n",
      "0\n",
      "(19125, 2) 2019\n"
     ]
    }
   ],
   "source": [
    "for year in years:\n",
    "  print('#'*10)\n",
    "  print(dfs['df'+str(year)].shape , year)\n",
    "  dfs['df'+str(year)]  = dfs['df'+str(year)][dfs['df'+str(year)]['Estado actual']!='EN ETAPA PREOPERATIVA']\n",
    "  print(dfs['df'+str(year)].shape , year)\n",
    "  dfs['df'+str(year)]['Fecha'] = pd.to_datetime( dfs['df'+str(year)][ 'Fecha de Corte'], format= \"%Y-%m-%d\")\n",
    "  dfs['df'+str(year)]  = dfs['df'+str(year)][dfs['df'+str(year)]['Fecha'].dt.month==12] # there is duplicates given present the information two or more times..\n",
    "  print(dfs['df'+str(year)].shape , year)\n",
    "  dfs['df'+str(year)] =  dfs['df'+str(year)][-pd.isnull(dfs['df'+str(year)]['NIT'])]\n",
    "  print(dfs['df'+str(year)].shape , year)\n",
    "  dfs['df'+str(year)]['evento'+str(year)]  = np.where(dfs['df'+str(year)]['Estado actual']!='ACTIVA',1 ,0)\n",
    "  dfs['df'+str(year)] = dfs['df'+str(year)][['evento'+str(year), 'NIT']]\n",
    "  print(dfs['df'+str(year)]['NIT'].duplicated().sum())\n",
    "  print(dfs['df'+str(year)].shape , year)"
   ]
  },
  {
   "cell_type": "code",
   "execution_count": 7,
   "id": "f22fc100-4c85-4b66-8f05-e58fed022d09",
   "metadata": {},
   "outputs": [
    {
     "data": {
      "text/plain": [
       "evento2019\n",
       "0    18249\n",
       "1      876\n",
       "Name: count, dtype: int64"
      ]
     },
     "execution_count": 7,
     "metadata": {},
     "output_type": "execute_result"
    }
   ],
   "source": [
    "dfs['df2019']['evento2019'].value_counts() # Here there are 876 firms,  but since declarate the process."
   ]
  },
  {
   "cell_type": "code",
   "execution_count": 8,
   "id": "6f3307aa-f6ed-4b4e-a1e9-f18faad85d56",
   "metadata": {},
   "outputs": [
    {
     "name": "stdout",
     "output_type": "stream",
     "text": [
      "evento2016\n",
      "0    17193\n",
      "1      508\n",
      "Name: count, dtype: int64\n",
      "evento2017\n",
      "0    14019\n",
      "1      619\n",
      "Name: count, dtype: int64\n",
      "evento2018\n",
      "0    13445\n",
      "1      765\n",
      "Name: count, dtype: int64\n",
      "evento2019\n",
      "0    18249\n",
      "1      876\n",
      "Name: count, dtype: int64\n"
     ]
    }
   ],
   "source": [
    "for year in range(2016,2020):\n",
    "    print(dfs['df'+str(year)]['evento'+str(year)].value_counts())"
   ]
  },
  {
   "cell_type": "code",
   "execution_count": 9,
   "id": "6247348b-3b0c-4c6c-960a-a24a3455c36f",
   "metadata": {},
   "outputs": [],
   "source": [
    "full = dfs['df2016'].copy()\n",
    "for year in range(2017,2020):\n",
    "    clients= new_firms(full,dfs['df'+str(year)], 'NIT')\n",
    "    full = full.merge(dfs['df'+str(year)], on='NIT', how='inner', suffixes=(None, 'to_remove'))\n",
    "    duplicated = [x for x in full.columns if 'to_remove' in x]\n",
    "    full.drop(columns=duplicated, inplace=True)\n",
    "    full = pd.concat([full, clients])"
   ]
  },
  {
   "cell_type": "code",
   "execution_count": 10,
   "id": "06a8edf1-ccc5-4b7b-9d6f-c23aa1992797",
   "metadata": {},
   "outputs": [
    {
     "data": {
      "text/plain": [
       "1"
      ]
     },
     "execution_count": 10,
     "metadata": {},
     "output_type": "execute_result"
    }
   ],
   "source": [
    "full['NIT'].duplicated().sum()"
   ]
  },
  {
   "cell_type": "code",
   "execution_count": 11,
   "id": "2fb3b620-8288-4daa-9972-22ca625db9f3",
   "metadata": {},
   "outputs": [
    {
     "data": {
      "text/plain": [
       "evento2019\n",
       "0.0    18250\n",
       "1.0      876\n",
       "Name: count, dtype: int64"
      ]
     },
     "execution_count": 11,
     "metadata": {},
     "output_type": "execute_result"
    }
   ],
   "source": [
    "full['evento2019'].value_counts()"
   ]
  },
  {
   "cell_type": "code",
   "execution_count": 12,
   "id": "5f338521-b526-433f-8c92-bc695f7c5e3e",
   "metadata": {},
   "outputs": [
    {
     "data": {
      "text/plain": [
       "time-event\n",
       "0       25931\n",
       "2016      508\n",
       "2019      282\n",
       "2018      257\n",
       "2017      232\n",
       "Name: count, dtype: int64"
      ]
     },
     "execution_count": 12,
     "metadata": {},
     "output_type": "execute_result"
    }
   ],
   "source": [
    "full = full[-full['NIT'].duplicated()].reset_index(drop=True)\n",
    "full['time-event'] =bankyear(full)\n",
    "full['time-event'].value_counts()"
   ]
  },
  {
   "cell_type": "code",
   "execution_count": 13,
   "id": "9b0e1e21",
   "metadata": {},
   "outputs": [
    {
     "name": "stdout",
     "output_type": "stream",
     "text": [
      "time-event\n",
      "0       25931\n",
      "2019      282\n",
      "2018      257\n",
      "2017      232\n",
      "Name: count, dtype: int64\n"
     ]
    }
   ],
   "source": [
    "## Draw firmst that enter to process in 2016 to avoid bias in indicators...\n",
    "full = full[full['evento2016']!=1]\n",
    "print(full['time-event'].value_counts())"
   ]
  },
  {
   "cell_type": "code",
   "execution_count": 14,
   "id": "aa29c0c8",
   "metadata": {},
   "outputs": [],
   "source": [
    "full['event'] = (full['time-event']!=0).astype('int')"
   ]
  },
  {
   "cell_type": "code",
   "execution_count": 15,
   "id": "0918c852",
   "metadata": {},
   "outputs": [
    {
     "data": {
      "text/plain": [
       "event\n",
       "0    25931\n",
       "1      771\n",
       "Name: count, dtype: int64"
      ]
     },
     "execution_count": 15,
     "metadata": {},
     "output_type": "execute_result"
    }
   ],
   "source": [
    "full['event'].value_counts()"
   ]
  },
  {
   "cell_type": "code",
   "execution_count": 16,
   "id": "cd6787fd",
   "metadata": {},
   "outputs": [],
   "source": [
    "ERIS={}\n",
    "EFSS={}\n",
    "for year in range(2016,2019):\n",
    "        #loops in ERI\n",
    "    ERIS['eri'+str(year)] = pd.read_excel('ERI-Pymes-'+str(year)+'.xlsx')\n",
    "    ERIS['eri'+str(year)]['Fecha'] = pd.to_datetime( ERIS['eri'+str(year)][ 'Fecha de Corte'], format= \"%Y-%m-%d\")\n",
    "    ERIS['eri'+str(year)] = ERIS['eri'+str(year)][ERIS['eri'+str(year)]['Fecha'].dt.month==12]\n",
    "    if year==2016:\n",
    "        ERIS['eri2016'] = ERIS['eri2016'][pd.to_datetime( ERIS['eri2016'][ 'Periodo'], format= \"%Y-%m-%d\").dt.year==2016]\n",
    "        ERIS['eri2016'] = ERIS['eri2016'][pd.to_datetime( ERIS['eri2016'][ 'Periodo'], format= \"%Y-%m-%d\").dt.month==12]\n",
    "        ERIS['eri2016'] = ERIS['eri2016'][pd.to_datetime( ERIS['eri2016'][ 'Periodo'], format= \"%Y-%m-%d\").dt.day==31]\n",
    "    else:\n",
    "        ERIS['eri'+str(year)] = ERIS['eri'+str(year)][ERIS['eri'+str(year)]['Periodo']=='Periodo Actual']\n",
    "        ERIS['eri'+str(year)] = ERIS['eri'+str(year)][pd.to_datetime(ERIS['eri'+str(year)]['Fecha de Corte'], format= \"%Y-%m-%d\").dt.day==31]\n",
    "\n",
    "    #ERIS['eri'+str(year)][-ERIS['eri'+str(year)]['NIT'].duplicated()].reset_index(drop=True)\n",
    "\n",
    "    # loops in efs\n",
    "    EFSS['efs'+str(year)] = pd.read_excel('ESF-Pymes-'+str(year)+'.xlsx')\n",
    "    if year == 2016:\n",
    "        EFSS['efs2016'] =EFSS['efs2016'][EFSS['efs2016']['Periodo'].apply(lambda x : clean_date(x)).dt.year==2016]\n",
    "        EFSS['efs2016'] =EFSS['efs2016'][EFSS['efs2016']['Periodo'].apply(lambda x : clean_date(x)).dt.month==12]\n",
    "        EFSS['efs2016'] =EFSS['efs2016'][EFSS['efs2016']['Periodo'].apply(lambda x : clean_date(x)).dt.day==31]\n",
    "    else:\n",
    "        EFSS['efs'+str(year)] = EFSS['efs'+str(year)][EFSS['efs'+str(year)]['Periodo']=='Periodo Actual']\n",
    "        EFSS['efs'+str(year)] = EFSS['efs'+str(year)][pd.to_datetime(EFSS['efs'+str(year)]['Fecha de Corte'], format= \"%Y-%m-%d\").dt.month==12]\n",
    "        EFSS['efs'+str(year)] = EFSS['efs'+str(year)][pd.to_datetime(EFSS['efs'+str(year)]['Fecha de Corte'], format= \"%Y-%m-%d\").dt.day==31]\n",
    "\n",
    "## Lines to debug...\n",
    "#EFSS['efs2018']['NIT'].duplicated(keep=False).sum()\n",
    "#EFSS['efs2018'][EFSS['efs2018']['NIT'].duplicated(keep=False)].to_excel('2018_review.xlsx')"
   ]
  },
  {
   "cell_type": "code",
   "execution_count": 37,
   "id": "8299628a",
   "metadata": {},
   "outputs": [
    {
     "name": "stdout",
     "output_type": "stream",
     "text": [
      "--------------------\n",
      "2016 17777 17777\n",
      "--------------------\n",
      "_merge\n",
      "both          17777\n",
      "left_only         0\n",
      "right_only        0\n",
      "Name: count, dtype: int64\n",
      "--------------------\n",
      "2017 14679 14679\n",
      "--------------------\n",
      "_merge\n",
      "both          14679\n",
      "left_only         0\n",
      "right_only        0\n",
      "Name: count, dtype: int64\n",
      "--------------------\n",
      "2018 14257 14257\n",
      "--------------------\n",
      "_merge\n",
      "both          14257\n",
      "left_only         0\n",
      "right_only        0\n",
      "Name: count, dtype: int64\n"
     ]
    }
   ],
   "source": [
    "# We can integrate both statements...\n",
    "\n",
    "\n",
    "FULLS = {}\n",
    "for year in range(2016,2019):\n",
    "    # Number of fimrs by year in each statement!\n",
    "    print('--'*10)\n",
    "    print(year,EFSS['efs'+str(year)].shape[0] ,  ERIS['eri'+str(year)].shape[0])\n",
    "    FULLS['full'+str(year)] = EFSS['efs'+str(year)].merge(ERIS['eri'+str(year)], on='NIT', how='outer',\n",
    "                                                          indicator = True, suffixes=(None, 'to_remove') )\n",
    "    duplicated = \n",
    "    print('--'*10)\n",
    "    print(FULLS['full'+str(year)]['_merge'].value_counts(dropna=False))"
   ]
  },
  {
   "cell_type": "code",
   "execution_count": 39,
   "id": "112939a5",
   "metadata": {},
   "outputs": [
    {
     "data": {
      "text/plain": [
       "Index(['punto de entrada_x', 'formulario_x', 'NIT',\n",
       "       'Razón social de la sociedad_x', 'Fecha de Corte_x',\n",
       "       'Clasificación Industrial Internacional Uniforme Versión 4 A.C_x',\n",
       "       'Tipo societario_x',\n",
       "       'Dirección de notificación judicial registrada en Cámara de Comercio_x',\n",
       "       'Departamento de la dirección del domicilio_x',\n",
       "       'Ciudad de la dirección del domicilio_x', 'Periodo_x',\n",
       "       'Efectivo y equivalentes al efectivo',\n",
       "       'Cuentas comerciales por cobrar y otras cuentas por cobrar corrientes',\n",
       "       'Inventarios corrientes', 'Activos por impuestos corrientes corriente',\n",
       "       'Activos biológicos corrientes al costo menos depreciación acumulada y deterioro de valor',\n",
       "       'Activos biológicos corrientes al valor razonable',\n",
       "       'Otros activos financieros corrientes',\n",
       "       'Otros activos no financieros corrientes',\n",
       "       'Activos corrientes distintos al efectivo pignorados como garantía colateral para las que el receptor de transferencias tiene derecho por contrato o costumbre a vender o pignorar de nuevo dicha garantía colateral',\n",
       "       'Total activos corrientes distintos de los activos no corrientes o grupo de activos para su disposición clasificados como mantenidos para la venta o como mantenidos para distribuir a los propietarios',\n",
       "       'Activos no corrientes o grupos de activos para su disposición clasificados como mantenidos para la venta o como mantenidos para distribuir a los propietarios',\n",
       "       'Activos corrientes totales', 'Propiedades planta y equipo',\n",
       "       'Propiedades de inversión al costo menos depreciación acumulada y deterioro',\n",
       "       'Propiedades de inversión a valor razonable con cambios en resultados',\n",
       "       'Plusvalía', 'Activos intangibles distintos de la plusvalía',\n",
       "       'Activos biológicos no corrientes al costo menos depreciación acumulada y deterioro del valor',\n",
       "       'Activos biológicos no corrientes al valor razonable',\n",
       "       'Cuentas comerciales por cobrar y otras cuentas por cobrar no corrientes',\n",
       "       'Inventarios no corrientes', 'Activos por impuestos diferidos',\n",
       "       'Activos por impuestos corrientes no corriente',\n",
       "       'Otros activos financieros no corrientes',\n",
       "       'Otros activos no financieros no corrientes',\n",
       "       'Activos no corrientes distintos al efectivo pignorados como garantía colateral para las que el receptor de transferencias tiene derecho por contrato o costumbre a vender o pignorar de nuevo dicha garantía colateral',\n",
       "       'Total de activos no corrientes', 'Total de activos',\n",
       "       'Provisiones corrientes por beneficios a los empleados',\n",
       "       'Otras provisiones corrientes', 'Total provisiones corrientes',\n",
       "       'Cuentas por pagar comerciales y otras cuentas por pagar',\n",
       "       'Pasivos por impuestos corrientes corriente',\n",
       "       'Otros pasivos financieros corrientes', 'Préstamos corrientes',\n",
       "       'Parte corriente de préstamos no corrientes',\n",
       "       'Otros pasivos no financieros corrientes',\n",
       "       'Total pasivos corrientes distintos de los pasivos incluidos en grupos de activos para su disposición clasificados como mantenidos para la venta',\n",
       "       'Pasivos incluidos en grupos de activos para su disposición clasificados como mantenidos para la venta',\n",
       "       'Pasivos corrientes totales',\n",
       "       'Provisiones no corrientes por beneficios a los empleados',\n",
       "       'Otras provisiones no corrientes', 'Total provisiones no corrientes',\n",
       "       'Cuentas comerciales por pagar y otras cuentas por pagar no corrientes',\n",
       "       'Pasivo por impuestos diferidos',\n",
       "       'Pasivos por impuestos corrientes no corriente',\n",
       "       'Otros pasivos financieros no corrientes',\n",
       "       'Parte no corriente de préstamos no corrientes',\n",
       "       'Otros pasivos no financieros no corrientes',\n",
       "       'Total de pasivos no corrientes', 'Total pasivos', 'Capital emitido',\n",
       "       'Prima de emisión', 'Acciones propias en cartera',\n",
       "       'Inversión suplementaria al capital asignado',\n",
       "       'Otras participaciones en el patrimonio', 'Superavit por revaluación',\n",
       "       'Otras reservas', 'Ganancias acumuladas', 'Patrimonio total',\n",
       "       'Total de patrimonio y pasivos', 'punto de entrada_y', 'formulario_y',\n",
       "       'Razón social de la sociedad_y', 'Fecha de Corte_y',\n",
       "       'Clasificación Industrial Internacional Uniforme Versión 4 A.C_y',\n",
       "       'Tipo societario_y',\n",
       "       'Dirección de notificación judicial registrada en Cámara de Comercio_y',\n",
       "       'Departamento de la dirección del domicilio_y',\n",
       "       'Ciudad de la dirección del domicilio_y', 'Periodo_y',\n",
       "       'Ingresos de actividades ordinarias', 'Costo de ventas',\n",
       "       'Ganancia bruta', 'Otros ingresos', 'Gastos de ventas',\n",
       "       'Gastos de administración', 'Otros gastos',\n",
       "       'Otras ganancias (pérdidas)',\n",
       "       'Ganancia (pérdida) por actividades de operación',\n",
       "       'Ingresos financieros', 'Costos financieros',\n",
       "       'Ganancia (pérdida) antes de impuestos',\n",
       "       'Ingreso (gasto) por impuestos',\n",
       "       'Ganancia (pérdida) procedente de operaciones continuadas',\n",
       "       'Ganancia (pérdida) procedente de operaciones discontinuadas',\n",
       "       'Ganancia (pérdida)', 'Fecha', '_merge'],\n",
       "      dtype='object')"
      ]
     },
     "execution_count": 39,
     "metadata": {},
     "output_type": "execute_result"
    }
   ],
   "source": [
    "FULLS['full2016'].columns"
   ]
  },
  {
   "cell_type": "code",
   "execution_count": null,
   "id": "e315a74e",
   "metadata": {},
   "outputs": [],
   "source": [
    "'Ingreso (gasto) por impuestos', 'Ganancia bruta', "
   ]
  }
 ],
 "metadata": {
  "kernelspec": {
   "display_name": "Python 3 (ipykernel)",
   "language": "python",
   "name": "python3"
  },
  "language_info": {
   "codemirror_mode": {
    "name": "ipython",
    "version": 3
   },
   "file_extension": ".py",
   "mimetype": "text/x-python",
   "name": "python",
   "nbconvert_exporter": "python",
   "pygments_lexer": "ipython3",
   "version": "3.11.4"
  }
 },
 "nbformat": 4,
 "nbformat_minor": 5
}
