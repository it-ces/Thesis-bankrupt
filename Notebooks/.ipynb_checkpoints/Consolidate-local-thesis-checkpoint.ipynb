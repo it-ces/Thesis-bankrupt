{
 "cells": [
  {
   "cell_type": "code",
   "execution_count": 95,
   "id": "47ffa9fa-d59d-484f-8e75-e583e3b6afa8",
   "metadata": {},
   "outputs": [],
   "source": [
    "#Iván Andrés Trujillo Abella \n",
    "#ivantrujillo1229@gmail.com\n",
    "#Consolidate Thesis"
   ]
  },
  {
   "cell_type": "code",
   "execution_count": 96,
   "id": "1ecb4601",
   "metadata": {},
   "outputs": [],
   "source": [
    "import os\n",
    "os.chdir(r\"C:\\Users\\iván\\Desktop\\Thesis\\Thesis-bankrupt\\Datasets\")"
   ]
  },
  {
   "cell_type": "code",
   "execution_count": 97,
   "id": "1f59c2a1-b29f-4f84-9fae-18d6a5ac917b",
   "metadata": {},
   "outputs": [],
   "source": [
    "## Own functions\n",
    "def error_in_date(x, format_date= \"%Y-%m-%d\"):\n",
    "    try:\n",
    "        datetime.strptime(x,format_date)\n",
    "        return False\n",
    "    except:\n",
    "        return True\n",
    "\n",
    "def clean_date(x):\n",
    "    return pd.to_datetime(x[0:10], format= \"%Y-%m-%d\")    \n",
    "    \n",
    "def cleantime(x):\n",
    "    if type(x)==str:\n",
    "        return x.replace(\"00:00:00\", \"\").replace(\" \", \"\")\n",
    "    else:\n",
    "        return x\n",
    "\n",
    "def top_cat(k, cat, df):\n",
    "    otro = []\n",
    "    cat_relative_dict =  df[cat].value_counts(normalize=True).to_dict()\n",
    "    for cat in cat_relative_dict:\n",
    "        if cat_relative_dict[cat]<=k:\n",
    "            otro.append(cat)\n",
    "    return otro\n",
    "\n",
    "\n",
    "def bankyear(df_):\n",
    "    df = df_.copy()\n",
    "    years = [2016, 2017, 2018, 2019]\n",
    "    df['bankrupt-year'] = 0\n",
    "    for firm in df.index:\n",
    "        unchanged = True\n",
    "        for year in years:\n",
    "            if df.loc[firm, 'evento'+str(year)]==1 and unchanged==True:\n",
    "                df.loc[firm,'bankrupt-year']= year\n",
    "                unchanged = False\n",
    "    return df['bankrupt-year']\n",
    "\n",
    "\n",
    "\n",
    "def new_firms(current_df, next_df, key):\n",
    "    firm_first =  set(current_df[key].unique()) -  set(next_df[key].unique())\n",
    "    firm_second =  set(next_df[key].unique()) -  set(current_df[key].unique())\n",
    "    return pd.concat([current_df[current_df[key].isin(firm_first)] , next_df[next_df[key].isin(firm_second)]])\n",
    "\n",
    "\n",
    "\n",
    "def check_vars(vars_to_check, df):\n",
    "    not_in = []\n",
    "    for var in vars_to_check:\n",
    "        if var not in df.columns:\n",
    "            not_in.append(var)  \n",
    "    return not_in\n"
   ]
  },
  {
   "cell_type": "code",
   "execution_count": 98,
   "id": "9419b37d-aba0-4e38-a4dc-7eb9dfce731d",
   "metadata": {},
   "outputs": [],
   "source": [
    "import pandas as pd\n",
    "import numpy as np"
   ]
  },
  {
   "cell_type": "code",
   "execution_count": 99,
   "id": "910ee87c-73dc-41c0-bb8e-4ecb85b218d1",
   "metadata": {},
   "outputs": [
    {
     "data": {
      "text/plain": [
       "'\\n## To flowchart\\nfor year in years:\\n    print(\\'#\\'*10)\\n    print(dfs[\\'df\\'+str(year)].shape , year)\\n    print(dfs[\\'df\\'+str(year)][\\'Estado actual\\'].value_counts())\\n    dfs[\\'df\\'+str(year)]  = dfs[\\'df\\'+str(year)][dfs[\\'df\\'+str(year)][\\'Estado actual\\']!=\\'EN ETAPA PREOPERATIVA\\']\\n    print(dfs[\\'df\\'+str(year)].shape , year)\\n    dfs[\\'df\\'+str(year)][\\'Fecha\\'] = pd.to_datetime( dfs[\\'df\\'+str(year)][ \\'Fecha de Corte\\'], format= \"%Y-%m-%d\")\\n    dfs[\\'df\\'+str(year)]  = dfs[\\'df\\'+str(year)][dfs[\\'df\\'+str(year)][\\'Fecha\\'].dt.month==12] # there is duplicates given present the information two or more times..\\n    print(dfs[\\'df\\'+str(year)].shape, year)\\n    dfs[\\'df\\'+str(year)][\\'evento\\'+str(year)]  = np.where(dfs[\\'df\\'+str(year)][\\'Estado actual\\']!=\\'ACTIVA\\',1 ,0)\\n    print(\\'--\\'*100)\\n    print(dfs[\\'df\\'+str(year)][\\'evento\\'+str(year)].value_counts())\\n'"
      ]
     },
     "execution_count": 99,
     "metadata": {},
     "output_type": "execute_result"
    }
   ],
   "source": [
    "# Loading datasets\n",
    "dfs = {}\n",
    "years = [2016,2017,2018,2019]\n",
    "for year in years:\n",
    "      dfs['df'+str(year)]  = pd.read_excel('Carátula-Pymes-'+str(year)+'.xlsx')\n",
    "\n",
    "        \n",
    "\"\"\"\n",
    "## To flowchart\n",
    "for year in years:\n",
    "    print('#'*10)\n",
    "    print(dfs['df'+str(year)].shape , year)\n",
    "    print(dfs['df'+str(year)]['Estado actual'].value_counts())\n",
    "    dfs['df'+str(year)]  = dfs['df'+str(year)][dfs['df'+str(year)]['Estado actual']!='EN ETAPA PREOPERATIVA']\n",
    "    print(dfs['df'+str(year)].shape , year)\n",
    "    dfs['df'+str(year)]['Fecha'] = pd.to_datetime( dfs['df'+str(year)][ 'Fecha de Corte'], format= \"%Y-%m-%d\")\n",
    "    dfs['df'+str(year)]  = dfs['df'+str(year)][dfs['df'+str(year)]['Fecha'].dt.month==12] # there is duplicates given present the information two or more times..\n",
    "    print(dfs['df'+str(year)].shape, year)\n",
    "    dfs['df'+str(year)]['evento'+str(year)]  = np.where(dfs['df'+str(year)]['Estado actual']!='ACTIVA',1 ,0)\n",
    "    print('--'*100)\n",
    "    print(dfs['df'+str(year)]['evento'+str(year)].value_counts())\n",
    "\"\"\""
   ]
  },
  {
   "cell_type": "code",
   "execution_count": 100,
   "id": "9a0477c8-134f-48f9-9d5e-f49412c04481",
   "metadata": {},
   "outputs": [
    {
     "name": "stdout",
     "output_type": "stream",
     "text": [
      "##########\n",
      "(17799, 31) 2016\n",
      "(17723, 31) 2016\n",
      "(17701, 32) 2016\n",
      "(17701, 32) 2016\n",
      "0\n",
      "(17701, 3) 2016\n",
      "##########\n",
      "(14696, 32) 2017\n",
      "(14656, 32) 2017\n",
      "(14639, 33) 2017\n",
      "(14638, 33) 2017\n",
      "0\n",
      "(14638, 3) 2017\n",
      "##########\n",
      "(14275, 34) 2018\n",
      "(14229, 34) 2018\n",
      "(14211, 35) 2018\n",
      "(14209, 35) 2018\n",
      "0\n",
      "(14209, 3) 2018\n",
      "##########\n",
      "(19185, 36) 2019\n",
      "(19140, 36) 2019\n",
      "(19128, 37) 2019\n",
      "(19125, 37) 2019\n",
      "0\n",
      "(19125, 3) 2019\n"
     ]
    }
   ],
   "source": [
    "for year in years:\n",
    "    print('#'*10)\n",
    "    print(dfs['df'+str(year)].shape , year)\n",
    "    dfs['df'+str(year)]  = dfs['df'+str(year)][dfs['df'+str(year)]['Estado actual']!='EN ETAPA PREOPERATIVA']\n",
    "    print(dfs['df'+str(year)].shape , year)\n",
    "    dfs['df'+str(year)]['Fecha'] = pd.to_datetime( dfs['df'+str(year)][ 'Fecha de Corte'], format= \"%Y-%m-%d\")\n",
    "    dfs['df'+str(year)]  = dfs['df'+str(year)][dfs['df'+str(year)]['Fecha'].dt.month==12] # there is duplicates given present the information two or more times..\n",
    "    dfs['df'+str(year)]  = dfs['df'+str(year)][dfs['df'+str(year)]['Fecha'].dt.day==31] # there is duplicates given present the information two or more times..\n",
    "    print(dfs['df'+str(year)].shape , year)\n",
    "    dfs['df'+str(year)] =  dfs['df'+str(year)][-pd.isnull(dfs['df'+str(year)]['NIT'])]\n",
    "    print(dfs['df'+str(year)].shape , year)\n",
    "    dfs['df'+str(year)]['evento'+str(year)]  = np.where(dfs['df'+str(year)]['Estado actual']!='ACTIVA',1 ,0)\n",
    "    dfs['df'+str(year)] = dfs['df'+str(year)][['evento'+str(year), 'NIT' ,'Clasificación Industrial Internacional Uniforme Versión 4 A.C']]\n",
    "    print(dfs['df'+str(year)]['NIT'].duplicated().sum())\n",
    "    print(dfs['df'+str(year)].shape , year)\n",
    "# There is a only repeated firm in 2017 but is a error.."
   ]
  },
  {
   "cell_type": "code",
   "execution_count": 101,
   "id": "2ebbe101",
   "metadata": {},
   "outputs": [
    {
     "data": {
      "text/plain": [
       "0"
      ]
     },
     "execution_count": 101,
     "metadata": {},
     "output_type": "execute_result"
    }
   ],
   "source": [
    "dfs['df2018']['NIT'].duplicated().sum()"
   ]
  },
  {
   "cell_type": "code",
   "execution_count": 102,
   "id": "f22fc100-4c85-4b66-8f05-e58fed022d09",
   "metadata": {},
   "outputs": [
    {
     "data": {
      "text/plain": [
       "evento2019\n",
       "0    18249\n",
       "1      876\n",
       "Name: count, dtype: int64"
      ]
     },
     "execution_count": 102,
     "metadata": {},
     "output_type": "execute_result"
    }
   ],
   "source": [
    "dfs['df2019']['evento2019'].value_counts() # Here there are 876 firms,  but since declarate the process."
   ]
  },
  {
   "cell_type": "code",
   "execution_count": 103,
   "id": "6f3307aa-f6ed-4b4e-a1e9-f18faad85d56",
   "metadata": {},
   "outputs": [
    {
     "name": "stdout",
     "output_type": "stream",
     "text": [
      "evento2016\n",
      "0    17193\n",
      "1      508\n",
      "Name: count, dtype: int64\n",
      "evento2017\n",
      "0    14019\n",
      "1      619\n",
      "Name: count, dtype: int64\n",
      "evento2018\n",
      "0    13444\n",
      "1      765\n",
      "Name: count, dtype: int64\n",
      "evento2019\n",
      "0    18249\n",
      "1      876\n",
      "Name: count, dtype: int64\n"
     ]
    }
   ],
   "source": [
    "for year in range(2016,2020):\n",
    "    print(dfs['df'+str(year)]['evento'+str(year)].value_counts())"
   ]
  },
  {
   "cell_type": "code",
   "execution_count": 104,
   "id": "6247348b-3b0c-4c6c-960a-a24a3455c36f",
   "metadata": {},
   "outputs": [],
   "source": [
    "full = dfs['df2016'].copy()\n",
    "for year in range(2017,2020):\n",
    "    clients= new_firms(full,dfs['df'+str(year)], 'NIT')\n",
    "    full = full.merge(dfs['df'+str(year)], on='NIT', how='inner', suffixes=(None, 'to_remove'))\n",
    "    duplicated = [x for x in full.columns if 'to_remove' in x]\n",
    "    full.drop(columns=duplicated, inplace=True)\n",
    "    full = pd.concat([full, clients])"
   ]
  },
  {
   "cell_type": "code",
   "execution_count": 105,
   "id": "06a8edf1-ccc5-4b7b-9d6f-c23aa1992797",
   "metadata": {},
   "outputs": [
    {
     "data": {
      "text/plain": [
       "0"
      ]
     },
     "execution_count": 105,
     "metadata": {},
     "output_type": "execute_result"
    }
   ],
   "source": [
    "full['NIT'].duplicated().sum()"
   ]
  },
  {
   "cell_type": "code",
   "execution_count": 106,
   "id": "a2564dc6",
   "metadata": {},
   "outputs": [],
   "source": [
    "full[full['NIT'].duplicated(keep = False)].to_excel('what.xlsx')"
   ]
  },
  {
   "cell_type": "code",
   "execution_count": 107,
   "id": "2fb3b620-8288-4daa-9972-22ca625db9f3",
   "metadata": {},
   "outputs": [
    {
     "data": {
      "text/plain": [
       "evento2019\n",
       "0.0    18249\n",
       "1.0      876\n",
       "Name: count, dtype: int64"
      ]
     },
     "execution_count": 107,
     "metadata": {},
     "output_type": "execute_result"
    }
   ],
   "source": [
    "full['evento2019'].value_counts()"
   ]
  },
  {
   "cell_type": "code",
   "execution_count": 108,
   "id": "e233ff50",
   "metadata": {},
   "outputs": [
    {
     "data": {
      "text/plain": [
       "'\\nH = pd.DataFrame( [[1,2,3,4,5], [np.nan, np.nan, np.nan, np.nan, np.nan],\\n                   [np.nan, np.nan, np.nan, np.nan, 1]  ,  [0, np.nan, np.nan, np.nan, np.nan] ])\\nH.sum(axis=1, numeric_only=True, min_count=1) # This is very important... \\n'"
      ]
     },
     "execution_count": 108,
     "metadata": {},
     "output_type": "execute_result"
    }
   ],
   "source": [
    "\"\"\"\n",
    "H = pd.DataFrame( [[1,2,3,4,5], [np.nan, np.nan, np.nan, np.nan, np.nan],\n",
    "                   [np.nan, np.nan, np.nan, np.nan, 1]  ,  [0, np.nan, np.nan, np.nan, np.nan] ])\n",
    "H.sum(axis=1, numeric_only=True, min_count=1) # This is very important... \n",
    "\"\"\""
   ]
  },
  {
   "cell_type": "code",
   "execution_count": 109,
   "id": "7c20395c",
   "metadata": {},
   "outputs": [
    {
     "data": {
      "text/plain": [
       "0.0    25931\n",
       "1.0      508\n",
       "2.0      300\n",
       "4.0      247\n",
       "3.0      224\n",
       "Name: count, dtype: int64"
      ]
     },
     "execution_count": 109,
     "metadata": {},
     "output_type": "execute_result"
    }
   ],
   "source": [
    "full[['evento2016', 'evento2017', 'evento2018', 'evento2019']].sum(axis=1, min_count=1).value_counts(dropna=False)"
   ]
  },
  {
   "cell_type": "code",
   "execution_count": 110,
   "id": "d57ab221",
   "metadata": {},
   "outputs": [],
   "source": [
    "full['suma'] = full[['evento2016', 'evento2017', 'evento2018', 'evento2019']].sum(axis=1, min_count=1)"
   ]
  },
  {
   "cell_type": "code",
   "execution_count": 111,
   "id": "38ce3373",
   "metadata": {},
   "outputs": [],
   "source": [
    "full['indicator'] = (full['suma']!=0).astype('int')"
   ]
  },
  {
   "cell_type": "code",
   "execution_count": 112,
   "id": "275929ec",
   "metadata": {},
   "outputs": [
    {
     "data": {
      "text/plain": [
       "indicator\n",
       "0    25931\n",
       "1     1279\n",
       "Name: count, dtype: int64"
      ]
     },
     "execution_count": 112,
     "metadata": {},
     "output_type": "execute_result"
    }
   ],
   "source": [
    "full['indicator'].value_counts()"
   ]
  },
  {
   "cell_type": "code",
   "execution_count": 113,
   "id": "c15c7724",
   "metadata": {},
   "outputs": [
    {
     "data": {
      "text/plain": [
       "0"
      ]
     },
     "execution_count": 113,
     "metadata": {},
     "output_type": "execute_result"
    }
   ],
   "source": [
    "full['NIT'].duplicated().sum()"
   ]
  },
  {
   "cell_type": "code",
   "execution_count": 114,
   "id": "981e5c30",
   "metadata": {},
   "outputs": [
    {
     "data": {
      "text/plain": [
       "(27210, 8)"
      ]
     },
     "execution_count": 114,
     "metadata": {},
     "output_type": "execute_result"
    }
   ],
   "source": [
    "full.shape"
   ]
  },
  {
   "cell_type": "code",
   "execution_count": 115,
   "id": "5f338521-b526-433f-8c92-bc695f7c5e3e",
   "metadata": {},
   "outputs": [
    {
     "name": "stdout",
     "output_type": "stream",
     "text": [
      "(27210, 8)\n"
     ]
    },
    {
     "data": {
      "text/plain": [
       "time-event\n",
       "0       25931\n",
       "2016      508\n",
       "2019      282\n",
       "2018      257\n",
       "2017      232\n",
       "Name: count, dtype: int64"
      ]
     },
     "execution_count": 115,
     "metadata": {},
     "output_type": "execute_result"
    }
   ],
   "source": [
    "full = full[-(full['NIT'].duplicated())].reset_index(drop=True)\n",
    "print(full.shape)\n",
    "full['time-event'] =bankyear(full)\n",
    "full['time-event'].value_counts(dropna=False)"
   ]
  },
  {
   "cell_type": "code",
   "execution_count": 116,
   "id": "0394a496",
   "metadata": {},
   "outputs": [
    {
     "data": {
      "text/plain": [
       "indicator\n",
       "0    25931\n",
       "1     1279\n",
       "Name: count, dtype: int64"
      ]
     },
     "execution_count": 116,
     "metadata": {},
     "output_type": "execute_result"
    }
   ],
   "source": [
    "full['indicator'].value_counts()"
   ]
  },
  {
   "cell_type": "code",
   "execution_count": 117,
   "id": "9b0e1e21",
   "metadata": {},
   "outputs": [
    {
     "name": "stdout",
     "output_type": "stream",
     "text": [
      "time-event\n",
      "0       25931\n",
      "2019      282\n",
      "2018      257\n",
      "2017      232\n",
      "Name: count, dtype: int64\n"
     ]
    }
   ],
   "source": [
    "## Draw firmst that enter to process in 2016 to avoid bias in indicators...\n",
    "full = full[full['evento2016']!=1]\n",
    "print(full['time-event'].value_counts())"
   ]
  },
  {
   "cell_type": "code",
   "execution_count": 118,
   "id": "6ce7f24c",
   "metadata": {},
   "outputs": [
    {
     "data": {
      "text/plain": [
       "indicator\n",
       "0    25931\n",
       "1      771\n",
       "Name: count, dtype: int64"
      ]
     },
     "execution_count": 118,
     "metadata": {},
     "output_type": "execute_result"
    }
   ],
   "source": [
    "full['indicator'].value_counts()"
   ]
  },
  {
   "cell_type": "code",
   "execution_count": 119,
   "id": "652a95c1",
   "metadata": {},
   "outputs": [
    {
     "data": {
      "text/plain": [
       "26702"
      ]
     },
     "execution_count": 119,
     "metadata": {},
     "output_type": "execute_result"
    }
   ],
   "source": [
    "full['time-event'].value_counts().sum()"
   ]
  },
  {
   "cell_type": "code",
   "execution_count": 120,
   "id": "91f21cc7",
   "metadata": {},
   "outputs": [
    {
     "name": "stdout",
     "output_type": "stream",
     "text": [
      "771\n"
     ]
    }
   ],
   "source": [
    "print(282+ 257 + 232)"
   ]
  },
  {
   "cell_type": "code",
   "execution_count": 121,
   "id": "aa29c0c8",
   "metadata": {},
   "outputs": [],
   "source": [
    "full['event'] = (full['time-event']!=0).astype('int')"
   ]
  },
  {
   "cell_type": "code",
   "execution_count": 122,
   "id": "0918c852",
   "metadata": {},
   "outputs": [
    {
     "data": {
      "text/plain": [
       "event\n",
       "0    25931\n",
       "1      771\n",
       "Name: count, dtype: int64"
      ]
     },
     "execution_count": 122,
     "metadata": {},
     "output_type": "execute_result"
    }
   ],
   "source": [
    "full['event'].value_counts()"
   ]
  },
  {
   "cell_type": "code",
   "execution_count": 123,
   "id": "cd6787fd",
   "metadata": {},
   "outputs": [],
   "source": [
    "ERIS={}\n",
    "EFSS={}\n",
    "for year in range(2016,2019):\n",
    "        #loops in ERI\n",
    "    ERIS['eri'+str(year)] = pd.read_excel('ERI-Pymes-'+str(year)+'.xlsx')\n",
    "    ERIS['eri'+str(year)]['Fecha'] = pd.to_datetime( ERIS['eri'+str(year)][ 'Fecha de Corte'], format= \"%Y-%m-%d\")\n",
    "    ERIS['eri'+str(year)] = ERIS['eri'+str(year)][ERIS['eri'+str(year)]['Fecha'].dt.month==12]\n",
    "    if year==2016:\n",
    "        ERIS['eri2016'] = ERIS['eri2016'][pd.to_datetime( ERIS['eri2016'][ 'Periodo'], format= \"%Y-%m-%d\").dt.year==2016]\n",
    "        ERIS['eri2016'] = ERIS['eri2016'][pd.to_datetime( ERIS['eri2016'][ 'Periodo'], format= \"%Y-%m-%d\").dt.month==12]\n",
    "        ERIS['eri2016'] = ERIS['eri2016'][pd.to_datetime( ERIS['eri2016'][ 'Periodo'], format= \"%Y-%m-%d\").dt.day==31]\n",
    "    else:\n",
    "        ERIS['eri'+str(year)] = ERIS['eri'+str(year)][ERIS['eri'+str(year)]['Periodo']=='Periodo Actual']\n",
    "        ERIS['eri'+str(year)] = ERIS['eri'+str(year)][pd.to_datetime(ERIS['eri'+str(year)]['Fecha de Corte'], format= \"%Y-%m-%d\").dt.day==31]\n",
    "\n",
    "    #ERIS['eri'+str(year)][-ERIS['eri'+str(year)]['NIT'].duplicated()].reset_index(drop=True)\n",
    "\n",
    "    # loops in efs\n",
    "    EFSS['efs'+str(year)] = pd.read_excel('ESF-Pymes-'+str(year)+'.xlsx')\n",
    "    if year == 2016:\n",
    "        EFSS['efs2016'] =EFSS['efs2016'][EFSS['efs2016']['Periodo'].apply(lambda x : clean_date(x)).dt.year==2016]\n",
    "        EFSS['efs2016'] =EFSS['efs2016'][EFSS['efs2016']['Periodo'].apply(lambda x : clean_date(x)).dt.month==12]\n",
    "        EFSS['efs2016'] =EFSS['efs2016'][EFSS['efs2016']['Periodo'].apply(lambda x : clean_date(x)).dt.day==31]\n",
    "    else:\n",
    "        EFSS['efs'+str(year)] = EFSS['efs'+str(year)][EFSS['efs'+str(year)]['Periodo']=='Periodo Actual']\n",
    "        EFSS['efs'+str(year)] = EFSS['efs'+str(year)][pd.to_datetime(EFSS['efs'+str(year)]['Fecha de Corte'], format= \"%Y-%m-%d\").dt.month==12]\n",
    "        EFSS['efs'+str(year)] = EFSS['efs'+str(year)][pd.to_datetime(EFSS['efs'+str(year)]['Fecha de Corte'], format= \"%Y-%m-%d\").dt.day==31]\n",
    "\n",
    "## Lines to debug...\n",
    "#EFSS['efs2018']['NIT'].duplicated(keep=False).sum()\n",
    "#EFSS['efs2018'][EFSS['efs2018']['NIT'].duplicated(keep=False)].to_excel('2018_review.xlsx')"
   ]
  },
  {
   "cell_type": "code",
   "execution_count": 124,
   "id": "8299628a",
   "metadata": {},
   "outputs": [
    {
     "name": "stdout",
     "output_type": "stream",
     "text": [
      "--------------------\n",
      "2016 17777 17777\n",
      "--------------------\n",
      "_merge\n",
      "both          17777\n",
      "left_only         0\n",
      "right_only        0\n",
      "Name: count, dtype: int64\n",
      "--------------------\n",
      "2017 14679 14679\n",
      "--------------------\n",
      "_merge\n",
      "both          14679\n",
      "left_only         0\n",
      "right_only        0\n",
      "Name: count, dtype: int64\n",
      "--------------------\n",
      "2018 14257 14257\n",
      "--------------------\n",
      "_merge\n",
      "both          14257\n",
      "left_only         0\n",
      "right_only        0\n",
      "Name: count, dtype: int64\n"
     ]
    }
   ],
   "source": [
    "# We can integrate both statements...\n",
    "\n",
    "FULLS = {}\n",
    "for year in range(2016,2019):\n",
    "    # Number of fimrs by year in each statement!\n",
    "    print('--'*10)\n",
    "    print(year,EFSS['efs'+str(year)].shape[0] ,  ERIS['eri'+str(year)].shape[0])\n",
    "    FULLS['full'+str(year)] = EFSS['efs'+str(year)].merge(ERIS['eri'+str(year)], on='NIT', how='outer',\n",
    "                                                          indicator = True, suffixes=(None, 'to_remove') )\n",
    "    duplicated = [var for var in FULLS['full'+str(year)].columns if 'to_remove' in var]\n",
    "    FULLS['full'+str(year)].drop(columns=duplicated, inplace=True)\n",
    "    print('--'*10)\n",
    "    print(FULLS['full'+str(year)]['_merge'].value_counts(dropna=False))"
   ]
  },
  {
   "cell_type": "code",
   "execution_count": 125,
   "id": "eedaeeeb",
   "metadata": {},
   "outputs": [],
   "source": [
    "#FULLS['full2018'].columns"
   ]
  },
  {
   "cell_type": "code",
   "execution_count": 126,
   "id": "e315a74e",
   "metadata": {},
   "outputs": [],
   "source": [
    "raw_X = ['NIT','Ganancia bruta', 'Ganancia (pérdida)','Ingresos de actividades ordinarias' , 'Costo de ventas', \n",
    "         'Patrimonio total','Total pasivos', 'Total de activos', 'Ganancias acumuladas',  \n",
    "         'Otros pasivos financieros corrientes','Pasivos corrientes totales', 'Costos financieros', \n",
    "         'Otros activos no financieros corrientes', 'Activos corrientes totales']"
   ]
  },
  {
   "cell_type": "code",
   "execution_count": 127,
   "id": "a2ebe38a",
   "metadata": {},
   "outputs": [
    {
     "name": "stdout",
     "output_type": "stream",
     "text": [
      "[]\n",
      "[]\n",
      "[]\n"
     ]
    }
   ],
   "source": [
    "# Objective : rectificy if the variable exist in all datasets with the name..\n",
    "# must be appear only empty lists\n",
    "for year in range(2016,2019):\n",
    "    print(check_vars(raw_X, FULLS['full'+str(year)]))\n",
    "    FULLS['full'+str(year)] = FULLS['full'+str(year)][raw_X]\n",
    "    FULLS['full'+str(year)].columns = ['NIT'] + [col+'-'+str(year) for col in  FULLS['full'+str(year)].columns if col!='NIT']  "
   ]
  },
  {
   "cell_type": "code",
   "execution_count": 128,
   "id": "b27bc485",
   "metadata": {},
   "outputs": [],
   "source": [
    "full = full.copy()\n",
    "for year in range(2016,2019):\n",
    "    full = full.merge(FULLS['full'+str(year)], on='NIT', how='outer', suffixes=(None, 'to_remove'))\n",
    "    duplicated = [x for x in full.columns if 'to_remove' in x]\n",
    "    full.drop(columns=duplicated, inplace=True)"
   ]
  },
  {
   "cell_type": "code",
   "execution_count": 129,
   "id": "6cb344c6",
   "metadata": {},
   "outputs": [
    {
     "name": "stdout",
     "output_type": "stream",
     "text": [
      "(571, 49)\n",
      "508\n"
     ]
    }
   ],
   "source": [
    "print(full[full['event'].isnull()].shape)\n",
    "a = set(full[full['event'].isnull()]['NIT'].unique())\n",
    "b = set(dfs['df2016']['NIT'].unique())\n",
    "c = list(b & a)\n",
    "print(len(c)) ## "
   ]
  },
  {
   "cell_type": "code",
   "execution_count": 130,
   "id": "f95e5722",
   "metadata": {},
   "outputs": [
    {
     "data": {
      "text/html": [
       "<div>\n",
       "<style scoped>\n",
       "    .dataframe tbody tr th:only-of-type {\n",
       "        vertical-align: middle;\n",
       "    }\n",
       "\n",
       "    .dataframe tbody tr th {\n",
       "        vertical-align: top;\n",
       "    }\n",
       "\n",
       "    .dataframe thead th {\n",
       "        text-align: right;\n",
       "    }\n",
       "</style>\n",
       "<table border=\"1\" class=\"dataframe\">\n",
       "  <thead>\n",
       "    <tr style=\"text-align: right;\">\n",
       "      <th></th>\n",
       "      <th>evento2016</th>\n",
       "      <th>NIT</th>\n",
       "      <th>Clasificación Industrial Internacional Uniforme Versión 4 A.C</th>\n",
       "      <th>evento2017</th>\n",
       "      <th>evento2018</th>\n",
       "      <th>evento2019</th>\n",
       "      <th>suma</th>\n",
       "      <th>indicator</th>\n",
       "      <th>time-event</th>\n",
       "      <th>event</th>\n",
       "      <th>...</th>\n",
       "      <th>Costo de ventas-2018</th>\n",
       "      <th>Patrimonio total-2018</th>\n",
       "      <th>Total pasivos-2018</th>\n",
       "      <th>Total de activos-2018</th>\n",
       "      <th>Ganancias acumuladas-2018</th>\n",
       "      <th>Otros pasivos financieros corrientes-2018</th>\n",
       "      <th>Pasivos corrientes totales-2018</th>\n",
       "      <th>Costos financieros-2018</th>\n",
       "      <th>Otros activos no financieros corrientes-2018</th>\n",
       "      <th>Activos corrientes totales-2018</th>\n",
       "    </tr>\n",
       "  </thead>\n",
       "  <tbody>\n",
       "    <tr>\n",
       "      <th>26702</th>\n",
       "      <td>NaN</td>\n",
       "      <td>800001792.0</td>\n",
       "      <td>NaN</td>\n",
       "      <td>NaN</td>\n",
       "      <td>NaN</td>\n",
       "      <td>NaN</td>\n",
       "      <td>NaN</td>\n",
       "      <td>NaN</td>\n",
       "      <td>NaN</td>\n",
       "      <td>NaN</td>\n",
       "      <td>...</td>\n",
       "      <td>3071136.0</td>\n",
       "      <td>11177209.0</td>\n",
       "      <td>13324728.0</td>\n",
       "      <td>24501937.0</td>\n",
       "      <td>1824517.0</td>\n",
       "      <td>NaN</td>\n",
       "      <td>11510877.0</td>\n",
       "      <td>488706.0</td>\n",
       "      <td>0.0</td>\n",
       "      <td>2137895.0</td>\n",
       "    </tr>\n",
       "    <tr>\n",
       "      <th>26703</th>\n",
       "      <td>NaN</td>\n",
       "      <td>800002448.0</td>\n",
       "      <td>NaN</td>\n",
       "      <td>NaN</td>\n",
       "      <td>NaN</td>\n",
       "      <td>NaN</td>\n",
       "      <td>NaN</td>\n",
       "      <td>NaN</td>\n",
       "      <td>NaN</td>\n",
       "      <td>NaN</td>\n",
       "      <td>...</td>\n",
       "      <td>709261.0</td>\n",
       "      <td>591544.0</td>\n",
       "      <td>3297138.0</td>\n",
       "      <td>3888682.0</td>\n",
       "      <td>490107.0</td>\n",
       "      <td>NaN</td>\n",
       "      <td>35935.0</td>\n",
       "      <td>9242.0</td>\n",
       "      <td>NaN</td>\n",
       "      <td>284380.0</td>\n",
       "    </tr>\n",
       "    <tr>\n",
       "      <th>26704</th>\n",
       "      <td>NaN</td>\n",
       "      <td>800002819.0</td>\n",
       "      <td>NaN</td>\n",
       "      <td>NaN</td>\n",
       "      <td>NaN</td>\n",
       "      <td>NaN</td>\n",
       "      <td>NaN</td>\n",
       "      <td>NaN</td>\n",
       "      <td>NaN</td>\n",
       "      <td>NaN</td>\n",
       "      <td>...</td>\n",
       "      <td>NaN</td>\n",
       "      <td>NaN</td>\n",
       "      <td>NaN</td>\n",
       "      <td>NaN</td>\n",
       "      <td>NaN</td>\n",
       "      <td>NaN</td>\n",
       "      <td>NaN</td>\n",
       "      <td>NaN</td>\n",
       "      <td>NaN</td>\n",
       "      <td>NaN</td>\n",
       "    </tr>\n",
       "    <tr>\n",
       "      <th>26705</th>\n",
       "      <td>NaN</td>\n",
       "      <td>800039321.0</td>\n",
       "      <td>NaN</td>\n",
       "      <td>NaN</td>\n",
       "      <td>NaN</td>\n",
       "      <td>NaN</td>\n",
       "      <td>NaN</td>\n",
       "      <td>NaN</td>\n",
       "      <td>NaN</td>\n",
       "      <td>NaN</td>\n",
       "      <td>...</td>\n",
       "      <td>NaN</td>\n",
       "      <td>NaN</td>\n",
       "      <td>NaN</td>\n",
       "      <td>NaN</td>\n",
       "      <td>NaN</td>\n",
       "      <td>NaN</td>\n",
       "      <td>NaN</td>\n",
       "      <td>NaN</td>\n",
       "      <td>NaN</td>\n",
       "      <td>NaN</td>\n",
       "    </tr>\n",
       "    <tr>\n",
       "      <th>26706</th>\n",
       "      <td>NaN</td>\n",
       "      <td>800041672.0</td>\n",
       "      <td>NaN</td>\n",
       "      <td>NaN</td>\n",
       "      <td>NaN</td>\n",
       "      <td>NaN</td>\n",
       "      <td>NaN</td>\n",
       "      <td>NaN</td>\n",
       "      <td>NaN</td>\n",
       "      <td>NaN</td>\n",
       "      <td>...</td>\n",
       "      <td>8021553.0</td>\n",
       "      <td>538428.0</td>\n",
       "      <td>7241940.0</td>\n",
       "      <td>7780368.0</td>\n",
       "      <td>-220199.0</td>\n",
       "      <td>NaN</td>\n",
       "      <td>2305667.0</td>\n",
       "      <td>149714.0</td>\n",
       "      <td>NaN</td>\n",
       "      <td>5249441.0</td>\n",
       "    </tr>\n",
       "    <tr>\n",
       "      <th>...</th>\n",
       "      <td>...</td>\n",
       "      <td>...</td>\n",
       "      <td>...</td>\n",
       "      <td>...</td>\n",
       "      <td>...</td>\n",
       "      <td>...</td>\n",
       "      <td>...</td>\n",
       "      <td>...</td>\n",
       "      <td>...</td>\n",
       "      <td>...</td>\n",
       "      <td>...</td>\n",
       "      <td>...</td>\n",
       "      <td>...</td>\n",
       "      <td>...</td>\n",
       "      <td>...</td>\n",
       "      <td>...</td>\n",
       "      <td>...</td>\n",
       "      <td>...</td>\n",
       "      <td>...</td>\n",
       "      <td>...</td>\n",
       "      <td>...</td>\n",
       "    </tr>\n",
       "    <tr>\n",
       "      <th>27268</th>\n",
       "      <td>NaN</td>\n",
       "      <td>900510770.0</td>\n",
       "      <td>NaN</td>\n",
       "      <td>NaN</td>\n",
       "      <td>NaN</td>\n",
       "      <td>NaN</td>\n",
       "      <td>NaN</td>\n",
       "      <td>NaN</td>\n",
       "      <td>NaN</td>\n",
       "      <td>NaN</td>\n",
       "      <td>...</td>\n",
       "      <td>88315.0</td>\n",
       "      <td>521145.0</td>\n",
       "      <td>612373.0</td>\n",
       "      <td>1133518.0</td>\n",
       "      <td>-906194.0</td>\n",
       "      <td>NaN</td>\n",
       "      <td>62131.0</td>\n",
       "      <td>605.0</td>\n",
       "      <td>NaN</td>\n",
       "      <td>5336.0</td>\n",
       "    </tr>\n",
       "    <tr>\n",
       "      <th>27269</th>\n",
       "      <td>NaN</td>\n",
       "      <td>900637247.0</td>\n",
       "      <td>NaN</td>\n",
       "      <td>NaN</td>\n",
       "      <td>NaN</td>\n",
       "      <td>NaN</td>\n",
       "      <td>NaN</td>\n",
       "      <td>NaN</td>\n",
       "      <td>NaN</td>\n",
       "      <td>NaN</td>\n",
       "      <td>...</td>\n",
       "      <td>0.0</td>\n",
       "      <td>26891.0</td>\n",
       "      <td>548.0</td>\n",
       "      <td>27439.0</td>\n",
       "      <td>-1109.0</td>\n",
       "      <td>NaN</td>\n",
       "      <td>548.0</td>\n",
       "      <td>0.0</td>\n",
       "      <td>567.0</td>\n",
       "      <td>27439.0</td>\n",
       "    </tr>\n",
       "    <tr>\n",
       "      <th>27270</th>\n",
       "      <td>NaN</td>\n",
       "      <td>900713252.0</td>\n",
       "      <td>NaN</td>\n",
       "      <td>NaN</td>\n",
       "      <td>NaN</td>\n",
       "      <td>NaN</td>\n",
       "      <td>NaN</td>\n",
       "      <td>NaN</td>\n",
       "      <td>NaN</td>\n",
       "      <td>NaN</td>\n",
       "      <td>...</td>\n",
       "      <td>0.0</td>\n",
       "      <td>838816.0</td>\n",
       "      <td>50542875.0</td>\n",
       "      <td>51381691.0</td>\n",
       "      <td>-661184.0</td>\n",
       "      <td>NaN</td>\n",
       "      <td>4202441.0</td>\n",
       "      <td>0.0</td>\n",
       "      <td>NaN</td>\n",
       "      <td>256995.0</td>\n",
       "    </tr>\n",
       "    <tr>\n",
       "      <th>27271</th>\n",
       "      <td>NaN</td>\n",
       "      <td>901206570.0</td>\n",
       "      <td>NaN</td>\n",
       "      <td>NaN</td>\n",
       "      <td>NaN</td>\n",
       "      <td>NaN</td>\n",
       "      <td>NaN</td>\n",
       "      <td>NaN</td>\n",
       "      <td>NaN</td>\n",
       "      <td>NaN</td>\n",
       "      <td>...</td>\n",
       "      <td>188917.0</td>\n",
       "      <td>-24592.0</td>\n",
       "      <td>70804.0</td>\n",
       "      <td>46212.0</td>\n",
       "      <td>-64592.0</td>\n",
       "      <td>NaN</td>\n",
       "      <td>70804.0</td>\n",
       "      <td>524.0</td>\n",
       "      <td>NaN</td>\n",
       "      <td>27614.0</td>\n",
       "    </tr>\n",
       "    <tr>\n",
       "      <th>27272</th>\n",
       "      <td>NaN</td>\n",
       "      <td>901219568.0</td>\n",
       "      <td>NaN</td>\n",
       "      <td>NaN</td>\n",
       "      <td>NaN</td>\n",
       "      <td>NaN</td>\n",
       "      <td>NaN</td>\n",
       "      <td>NaN</td>\n",
       "      <td>NaN</td>\n",
       "      <td>NaN</td>\n",
       "      <td>...</td>\n",
       "      <td>0.0</td>\n",
       "      <td>500.0</td>\n",
       "      <td>0.0</td>\n",
       "      <td>500.0</td>\n",
       "      <td>0.0</td>\n",
       "      <td>0.0</td>\n",
       "      <td>0.0</td>\n",
       "      <td>0.0</td>\n",
       "      <td>0.0</td>\n",
       "      <td>500.0</td>\n",
       "    </tr>\n",
       "  </tbody>\n",
       "</table>\n",
       "<p>571 rows × 49 columns</p>\n",
       "</div>"
      ],
      "text/plain": [
       "       evento2016          NIT  \\\n",
       "26702         NaN  800001792.0   \n",
       "26703         NaN  800002448.0   \n",
       "26704         NaN  800002819.0   \n",
       "26705         NaN  800039321.0   \n",
       "26706         NaN  800041672.0   \n",
       "...           ...          ...   \n",
       "27268         NaN  900510770.0   \n",
       "27269         NaN  900637247.0   \n",
       "27270         NaN  900713252.0   \n",
       "27271         NaN  901206570.0   \n",
       "27272         NaN  901219568.0   \n",
       "\n",
       "      Clasificación Industrial Internacional Uniforme Versión 4 A.C  \\\n",
       "26702                                                NaN              \n",
       "26703                                                NaN              \n",
       "26704                                                NaN              \n",
       "26705                                                NaN              \n",
       "26706                                                NaN              \n",
       "...                                                  ...              \n",
       "27268                                                NaN              \n",
       "27269                                                NaN              \n",
       "27270                                                NaN              \n",
       "27271                                                NaN              \n",
       "27272                                                NaN              \n",
       "\n",
       "       evento2017  evento2018  evento2019  suma  indicator  time-event  event  \\\n",
       "26702         NaN         NaN         NaN   NaN        NaN         NaN    NaN   \n",
       "26703         NaN         NaN         NaN   NaN        NaN         NaN    NaN   \n",
       "26704         NaN         NaN         NaN   NaN        NaN         NaN    NaN   \n",
       "26705         NaN         NaN         NaN   NaN        NaN         NaN    NaN   \n",
       "26706         NaN         NaN         NaN   NaN        NaN         NaN    NaN   \n",
       "...           ...         ...         ...   ...        ...         ...    ...   \n",
       "27268         NaN         NaN         NaN   NaN        NaN         NaN    NaN   \n",
       "27269         NaN         NaN         NaN   NaN        NaN         NaN    NaN   \n",
       "27270         NaN         NaN         NaN   NaN        NaN         NaN    NaN   \n",
       "27271         NaN         NaN         NaN   NaN        NaN         NaN    NaN   \n",
       "27272         NaN         NaN         NaN   NaN        NaN         NaN    NaN   \n",
       "\n",
       "       ...  Costo de ventas-2018  Patrimonio total-2018  Total pasivos-2018  \\\n",
       "26702  ...             3071136.0             11177209.0          13324728.0   \n",
       "26703  ...              709261.0               591544.0           3297138.0   \n",
       "26704  ...                   NaN                    NaN                 NaN   \n",
       "26705  ...                   NaN                    NaN                 NaN   \n",
       "26706  ...             8021553.0               538428.0           7241940.0   \n",
       "...    ...                   ...                    ...                 ...   \n",
       "27268  ...               88315.0               521145.0            612373.0   \n",
       "27269  ...                   0.0                26891.0               548.0   \n",
       "27270  ...                   0.0               838816.0          50542875.0   \n",
       "27271  ...              188917.0               -24592.0             70804.0   \n",
       "27272  ...                   0.0                  500.0                 0.0   \n",
       "\n",
       "       Total de activos-2018  Ganancias acumuladas-2018  \\\n",
       "26702             24501937.0                  1824517.0   \n",
       "26703              3888682.0                   490107.0   \n",
       "26704                    NaN                        NaN   \n",
       "26705                    NaN                        NaN   \n",
       "26706              7780368.0                  -220199.0   \n",
       "...                      ...                        ...   \n",
       "27268              1133518.0                  -906194.0   \n",
       "27269                27439.0                    -1109.0   \n",
       "27270             51381691.0                  -661184.0   \n",
       "27271                46212.0                   -64592.0   \n",
       "27272                  500.0                        0.0   \n",
       "\n",
       "       Otros pasivos financieros corrientes-2018  \\\n",
       "26702                                        NaN   \n",
       "26703                                        NaN   \n",
       "26704                                        NaN   \n",
       "26705                                        NaN   \n",
       "26706                                        NaN   \n",
       "...                                          ...   \n",
       "27268                                        NaN   \n",
       "27269                                        NaN   \n",
       "27270                                        NaN   \n",
       "27271                                        NaN   \n",
       "27272                                        0.0   \n",
       "\n",
       "       Pasivos corrientes totales-2018  Costos financieros-2018  \\\n",
       "26702                       11510877.0                 488706.0   \n",
       "26703                          35935.0                   9242.0   \n",
       "26704                              NaN                      NaN   \n",
       "26705                              NaN                      NaN   \n",
       "26706                        2305667.0                 149714.0   \n",
       "...                                ...                      ...   \n",
       "27268                          62131.0                    605.0   \n",
       "27269                            548.0                      0.0   \n",
       "27270                        4202441.0                      0.0   \n",
       "27271                          70804.0                    524.0   \n",
       "27272                              0.0                      0.0   \n",
       "\n",
       "       Otros activos no financieros corrientes-2018  \\\n",
       "26702                                           0.0   \n",
       "26703                                           NaN   \n",
       "26704                                           NaN   \n",
       "26705                                           NaN   \n",
       "26706                                           NaN   \n",
       "...                                             ...   \n",
       "27268                                           NaN   \n",
       "27269                                         567.0   \n",
       "27270                                           NaN   \n",
       "27271                                           NaN   \n",
       "27272                                           0.0   \n",
       "\n",
       "       Activos corrientes totales-2018  \n",
       "26702                        2137895.0  \n",
       "26703                         284380.0  \n",
       "26704                              NaN  \n",
       "26705                              NaN  \n",
       "26706                        5249441.0  \n",
       "...                                ...  \n",
       "27268                           5336.0  \n",
       "27269                          27439.0  \n",
       "27270                         256995.0  \n",
       "27271                          27614.0  \n",
       "27272                            500.0  \n",
       "\n",
       "[571 rows x 49 columns]"
      ]
     },
     "execution_count": 130,
     "metadata": {},
     "output_type": "execute_result"
    }
   ],
   "source": [
    "full[full['event'].isnull()]"
   ]
  },
  {
   "cell_type": "code",
   "execution_count": 131,
   "id": "96374434",
   "metadata": {},
   "outputs": [
    {
     "data": {
      "text/plain": [
       "event\n",
       "0.0    25931\n",
       "1.0      771\n",
       "Name: count, dtype: int64"
      ]
     },
     "execution_count": 131,
     "metadata": {},
     "output_type": "execute_result"
    }
   ],
   "source": [
    "full['event'].value_counts()"
   ]
  },
  {
   "cell_type": "code",
   "execution_count": 132,
   "id": "31cb0d67",
   "metadata": {},
   "outputs": [
    {
     "name": "stdout",
     "output_type": "stream",
     "text": [
      "Estado actual\n",
      "ACUERDO DE REORGANIZACION      343\n",
      "ACUERDO DE REESTRUCTURACIÓN    152\n",
      "EN ETAPA PREOPERATIVA           49\n",
      "CONCORDATO EN EJECUCIÓN          9\n",
      "CONCORDATO EN TRÁMITE            4\n",
      "Name: count, dtype: int64\n",
      "Estado actual\n",
      "ACUERDO DE REORGANIZACION      262\n",
      "ACUERDO DE REESTRUCTURACIÓN    116\n",
      "ACTIVA                          57\n",
      "EN ETAPA PREOPERATIVA           29\n",
      "CONCORDATO EN EJECUCIÓN          9\n",
      "CONCORDATO EN TRÁMITE            1\n",
      "Name: count, dtype: int64\n",
      "Estado actual\n",
      "ACUERDO DE REORGANIZACION      239\n",
      "ACUERDO DE REESTRUCTURACIÓN     93\n",
      "ACTIVA                          74\n",
      "EN ETAPA PREOPERATIVA           29\n",
      "CONCORDATO EN EJECUCIÓN          6\n",
      "CONCORDATO EN TRÁMITE            1\n",
      "Name: count, dtype: int64\n",
      "Estado actual\n",
      "ACUERDO DE REORGANIZACION      207\n",
      "ACUERDO DE REESTRUCTURACIÓN     77\n",
      "ACTIVA                          74\n",
      "EN ETAPA PREOPERATIVA           20\n",
      "CONCORDATO EN EJECUCIÓN          6\n",
      "Name: count, dtype: int64\n"
     ]
    }
   ],
   "source": [
    "# This cell is to check that all missing events are of 'etapa preoperativa' to avoid biases\n",
    "NULAS  =full[full['event'].isnull()]['NIT'].unique()\n",
    "dfs = {}\n",
    "years = [2016,2017,2018,2019]\n",
    "for year in years:\n",
    "    dfs['df'+str(year)]  = pd.read_excel('Carátula-Pymes-'+str(year)+'.xlsx')\n",
    "    print(dfs['df'+str(year)][dfs['df'+str(year)]['NIT'].isin(NULAS)]['Estado actual'].value_counts())"
   ]
  },
  {
   "cell_type": "code",
   "execution_count": 133,
   "id": "335e3483",
   "metadata": {
    "scrolled": true
   },
   "outputs": [],
   "source": [
    "full = full[-full['event'].isnull()]\n",
    "full = full[full['time-event']!=2016]"
   ]
  },
  {
   "cell_type": "code",
   "execution_count": 144,
   "id": "f84337cb",
   "metadata": {},
   "outputs": [
    {
     "data": {
      "text/plain": [
       "event\n",
       "0.0    25931\n",
       "1.0      771\n",
       "Name: count, dtype: int64"
      ]
     },
     "execution_count": 144,
     "metadata": {},
     "output_type": "execute_result"
    }
   ],
   "source": [
    "full['event'].value_counts()"
   ]
  },
  {
   "cell_type": "code",
   "execution_count": 135,
   "id": "fd1542f6",
   "metadata": {},
   "outputs": [],
   "source": [
    "full['Clasificación Industrial Internacional Uniforme Versión 4 A.C'] = full['Clasificación Industrial Internacional Uniforme Versión 4 A.C'].apply(lambda x : x[0:1])"
   ]
  },
  {
   "cell_type": "code",
   "execution_count": 136,
   "id": "d52da738",
   "metadata": {},
   "outputs": [
    {
     "data": {
      "text/plain": [
       "\"\\nactividades = {\\n    'A': 'Agricultura, ganadería, caza, silvicultura y pesca',\\n    'B': 'Explotación de minas y canteras',\\n    'C': 'Industrias manufacturetas',\\n    'D': 'Suministro de electricidad, gas, vapor y aire acondicionado',\\n    'E': 'Distribución de agua; evacuación y tratamiento de aguas residuales, gestión de desechos y actividades de saneanmiento ambiental',\\n    'F': 'Construcción',\\n    'G': 'Comercio al por mayor y al por menor; reparación de vehículos automotores y motocicletas',\\n    'H': 'Transporte y almacenamiento',\\n    'I': 'Alojamiento y servicios de comida',\\n    'J': 'Información y comunicaciones',\\n    'K': 'Actividades financieras y de seguros',\\n    'L': 'Actividades inmobiliarias',\\n    'M': 'Actividades profesionales,  científicas y técnicas',\\n    'N': 'Actividades de servicios administrativos y de apoyo',\\n    'O': 'Administración pública y defensa; planes de seguridad social de afiliación obligatoria',\\n    'P' :'Educación',\\n    'Q': 'Actividades de atención de la salud humana y de asistencia social',\\n    'R': 'Actividades artísticas, de entretenimiento y recreación',\\n    'S': 'Otras actividades de servicios',\\n    'T': 'Actividades de los hogares individuales en calidad de empleadores',\\n    'U': 'Actividades de organizaciones y entidades extraterritoriales'\\n}\\nfull['Clasificación Industrial Internacional Uniforme Versión 4 A.C'].replace(actividades, inplace=True)\\n\""
      ]
     },
     "execution_count": 136,
     "metadata": {},
     "output_type": "execute_result"
    }
   ],
   "source": [
    "\"\"\"\n",
    "actividades = {\n",
    "    'A': 'Agricultura, ganadería, caza, silvicultura y pesca',\n",
    "    'B': 'Explotación de minas y canteras',\n",
    "    'C': 'Industrias manufacturetas',\n",
    "    'D': 'Suministro de electricidad, gas, vapor y aire acondicionado',\n",
    "    'E': 'Distribución de agua; evacuación y tratamiento de aguas residuales, gestión de desechos y actividades de saneanmiento ambiental',\n",
    "    'F': 'Construcción',\n",
    "    'G': 'Comercio al por mayor y al por menor; reparación de vehículos automotores y motocicletas',\n",
    "    'H': 'Transporte y almacenamiento',\n",
    "    'I': 'Alojamiento y servicios de comida',\n",
    "    'J': 'Información y comunicaciones',\n",
    "    'K': 'Actividades financieras y de seguros',\n",
    "    'L': 'Actividades inmobiliarias',\n",
    "    'M': 'Actividades profesionales,  científicas y técnicas',\n",
    "    'N': 'Actividades de servicios administrativos y de apoyo',\n",
    "    'O': 'Administración pública y defensa; planes de seguridad social de afiliación obligatoria',\n",
    "    'P' :'Educación',\n",
    "    'Q': 'Actividades de atención de la salud humana y de asistencia social',\n",
    "    'R': 'Actividades artísticas, de entretenimiento y recreación',\n",
    "    'S': 'Otras actividades de servicios',\n",
    "    'T': 'Actividades de los hogares individuales en calidad de empleadores',\n",
    "    'U': 'Actividades de organizaciones y entidades extraterritoriales'\n",
    "}\n",
    "full['Clasificación Industrial Internacional Uniforme Versión 4 A.C'].replace(actividades, inplace=True)\n",
    "\"\"\""
   ]
  },
  {
   "cell_type": "code",
   "execution_count": 137,
   "id": "f8c8191b",
   "metadata": {},
   "outputs": [],
   "source": [
    "full.to_csv(\"database-to-model.csv\")"
   ]
  },
  {
   "cell_type": "code",
   "execution_count": 138,
   "id": "b83513f4",
   "metadata": {},
   "outputs": [],
   "source": [
    "import numpy as np\n",
    "import pandas as pd\n",
    "df  =pd.DataFrame({'var1': [np.nan, 1, 2, 3],\n",
    "'var2': [np.nan, np.nan,3,4],\n",
    "'var3': [np.nan, 2, 3, np.nan]})"
   ]
  },
  {
   "cell_type": "code",
   "execution_count": 139,
   "id": "972b6a73",
   "metadata": {},
   "outputs": [
    {
     "data": {
      "text/plain": [
       "0         NaN\n",
       "1    1.500000\n",
       "2    2.666667\n",
       "3    3.500000\n",
       "dtype: float64"
      ]
     },
     "execution_count": 139,
     "metadata": {},
     "output_type": "execute_result"
    }
   ],
   "source": [
    "df.mean(axis=1, skipna=True)"
   ]
  },
  {
   "cell_type": "code",
   "execution_count": 140,
   "id": "77d902e8",
   "metadata": {},
   "outputs": [
    {
     "data": {
      "text/plain": [
       "0         NaN\n",
       "1         NaN\n",
       "2    2.666667\n",
       "3         NaN\n",
       "dtype: float64"
      ]
     },
     "execution_count": 140,
     "metadata": {},
     "output_type": "execute_result"
    }
   ],
   "source": [
    "df.mean(axis=1, skipna=False)"
   ]
  },
  {
   "cell_type": "code",
   "execution_count": 141,
   "id": "448dd566",
   "metadata": {},
   "outputs": [
    {
     "name": "stdout",
     "output_type": "stream",
     "text": [
      "3.5\n"
     ]
    }
   ],
   "source": [
    "print((3+4)/2)"
   ]
  },
  {
   "cell_type": "code",
   "execution_count": 142,
   "id": "1a84706d",
   "metadata": {},
   "outputs": [
    {
     "data": {
      "text/plain": [
       "0    0.0\n",
       "1    3.0\n",
       "2    8.0\n",
       "3    7.0\n",
       "dtype: float64"
      ]
     },
     "execution_count": 142,
     "metadata": {},
     "output_type": "execute_result"
    }
   ],
   "source": [
    "df.sum(axis=1)"
   ]
  },
  {
   "cell_type": "code",
   "execution_count": 143,
   "id": "ecfa5bc6",
   "metadata": {},
   "outputs": [
    {
     "data": {
      "text/plain": [
       "0    NaN\n",
       "1    3.0\n",
       "2    8.0\n",
       "3    7.0\n",
       "dtype: float64"
      ]
     },
     "execution_count": 143,
     "metadata": {},
     "output_type": "execute_result"
    }
   ],
   "source": [
    "df.sum(axis=1, min_count=1)"
   ]
  }
 ],
 "metadata": {
  "kernelspec": {
   "display_name": "Python 3 (ipykernel)",
   "language": "python",
   "name": "python3"
  },
  "language_info": {
   "codemirror_mode": {
    "name": "ipython",
    "version": 3
   },
   "file_extension": ".py",
   "mimetype": "text/x-python",
   "name": "python",
   "nbconvert_exporter": "python",
   "pygments_lexer": "ipython3",
   "version": "3.11.4"
  }
 },
 "nbformat": 4,
 "nbformat_minor": 5
}
